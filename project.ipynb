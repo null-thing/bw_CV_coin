{
 "cells": [
  {
   "cell_type": "code",
   "execution_count": null,
   "metadata": {},
   "outputs": [],
   "source": [
    "import numpy as np\n",
    "from PIL import Image, ImageFilter"
   ]
  },
  {
   "cell_type": "code",
   "execution_count": null,
   "metadata": {},
   "outputs": [],
   "source": [
    "def preprocess_image(image_path):\n",
    "    image = Image.open(image_path).convert(\"L\")  # Convert to grayscale\n",
    "    image = image.filter(ImageFilter.GaussianBlur(radius=2))  # Apply Gaussian blur for noise reduction\n",
    "    return image\n"
   ]
  },
  {
   "cell_type": "code",
   "execution_count": null,
   "metadata": {},
   "outputs": [],
   "source": [
    "def histogram_equalization(image):\n",
    "    histogram, bins = np.histogram(image.flatten(), 256, density=True)\n",
    "    cumulative_distribution = histogram.cumsum()\n",
    "    cumulative_distribution = 255 * cumulative_distribution / cumulative_distribution[-1]\n",
    "\n",
    "    equalized_image = np.interp(image, bins[:-1], cumulative_distribution)\n",
    "    return equalized_image.astype(np.uint8)\n"
   ]
  },
  {
   "cell_type": "code",
   "execution_count": null,
   "metadata": {},
   "outputs": [],
   "source": [
    "def sobel_filter(image):\n",
    "    sobel_x = np.array([[-1, 0, 1],\n",
    "                        [-2, 0, 2], \n",
    "                        [-1, 0, 1]])    \n",
    "    sobel_y = np.array([[1, 2, 1],\n",
    "                        [0, 0, 0],\n",
    "                        [-1, -2, -1]])\n",
    "\n",
    "    gradient_x = np.abs(image.convolve(ImageFilter.Kernel((3, 3), sobel_x)))\n",
    "    gradient_y = np.abs(image.convolve(ImageFilter.Kernel((3, 3), sobel_y)))\n",
    "\n",
    "    gradient_magnitude = np.sqrt(np.square(gradient_x) + np.square(gradient_y))\n",
    "    return gradient_magnitude.astype(np.uint8)\n"
   ]
  },
  {
   "cell_type": "code",
   "execution_count": null,
   "metadata": {},
   "outputs": [],
   "source": [
    "def binarize_image(image, threshold):\n",
    "    return image > threshold"
   ]
  },
  {
   "cell_type": "code",
   "execution_count": null,
   "metadata": {},
   "outputs": [],
   "source": [
    "def pattern_matching(image, pattern):\n",
    "    image_width, image_height = image.size\n",
    "    pattern_width, pattern_height = pattern.size\n",
    "\n",
    "    for x in range(image_width - pattern_width):\n",
    "        for y in range(image_height - pattern_height):\n",
    "            region = image.crop((x, y, x + pattern_width, y + pattern_height))\n",
    "            difference = np.abs(np.array(region) - np.array(pattern))\n",
    "            if np.mean(difference) < 20:  # Adjust the threshold as per your requirements\n",
    "                return True\n",
    "\n",
    "    return False\n"
   ]
  },
  {
   "cell_type": "code",
   "execution_count": null,
   "metadata": {},
   "outputs": [],
   "source": [
    "def detect_coins(image_path):\n",
    "    image = preprocess_image(image_path)\n",
    "    equalized_image = histogram_equalization(image)\n",
    "    gradient_magnitude = sobel_filter(equalized_image)\n",
    "    binary_image = binarize_image(gradient_magnitude, threshold=100)\n",
    "\n",
    "    # Load the pattern image of a coin to match against\n",
    "    coin_pattern = Image.open(\"coin_pattern.png\").convert(\"L\")\n",
    "\n",
    "    if pattern_matching(binary_image, coin_pattern):\n",
    "        print(\"Coin detected!\")\n",
    "    else:\n",
    "        print(\"No coin detected.\")"
   ]
  }
 ],
 "metadata": {
  "kernelspec": {
   "display_name": "img",
   "language": "python",
   "name": "python3"
  },
  "language_info": {
   "name": "python",
   "version": "3.11.2"
  },
  "orig_nbformat": 4
 },
 "nbformat": 4,
 "nbformat_minor": 2
}
