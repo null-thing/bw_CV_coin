{
 "cells": [
  {
   "cell_type": "code",
   "execution_count": 411,
   "metadata": {},
   "outputs": [],
   "source": [
    "import numpy as np\n",
    "from PIL import Image, ImageFilter\n",
    "from numpy import convolve as conv"
   ]
  },
  {
   "cell_type": "code",
   "execution_count": 430,
   "metadata": {},
   "outputs": [],
   "source": [
    "def preprocess_image(image_path):\n",
    "    image = Image.open(image_path).convert(\"L\")  # Convert to grayscale\n",
    "    image = image.filter(ImageFilter.GaussianBlur(radius=2))  # Apply Gaussian blur for noise reduction\n",
    "    return image\n"
   ]
  },
  {
   "cell_type": "code",
   "execution_count": 431,
   "metadata": {},
   "outputs": [],
   "source": [
    "def histogram_equalization(image):\n",
    "    histogram, bins = np.histogram(np.array(image).flatten(), 256, density=True)\n",
    "    cumulative_distribution = histogram.cumsum()\n",
    "    cumulative_distribution = 255 * cumulative_distribution / cumulative_distribution[-1]\n",
    "\n",
    "    equalized_image = np.interp(image, bins[:-1], cumulative_distribution)\n",
    "    result = Image.fromarray(equalized_image.astype(np.uint8).reshape((image.size[1], image.size[0])))\n",
    "    return result\n"
   ]
  },
  {
   "cell_type": "code",
   "execution_count": 432,
   "metadata": {},
   "outputs": [],
   "source": [
    "def sobel_filter(image):\n",
    "    sobel_x = np.array([[-1, 0, 1],\n",
    "                        [-2, 0, 2], \n",
    "                        [-1, 0, 1]])    \n",
    "    sobel_y = np.array([[1, 2, 1],\n",
    "                        [0, 0, 0],\n",
    "                        [-1, -2, -1]])\n",
    "\n",
    "    gradient_x = image.filter(ImageFilter.Kernel((3, 3), sobel_x.flatten() ,1,0))\n",
    "    gradient_y = image.filter(ImageFilter.Kernel((3, 3), sobel_y.flatten(),1,0))\n",
    "\n",
    "    # gradient_x = np.abs(image.filter(ImageFilter.Kernel((3, 3), sobel_x)))\n",
    "\n",
    "    gradient_magnitude = np.sqrt(np.square(gradient_x) + np.square(gradient_y))\n",
    "    \n",
    "    result = gradient_magnitude.reshape((image.size[1], image.size[0]))\n",
    "    result = gradient_magnitude.astype(np.uint8)\n",
    "    result = Image.fromarray(result)\n",
    "    return result\n"
   ]
  },
  {
   "cell_type": "code",
   "execution_count": 433,
   "metadata": {},
   "outputs": [],
   "source": [
    "def laplace_filter(image):\n",
    "    laplace = np.array([[-1, -1, -1],\n",
    "                        [-1, 8, -1],\n",
    "                        [-1, -1, -1]])\n",
    "\n",
    "    gradient = image.filter(ImageFilter.Kernel((3, 3), laplace.flatten() ,1,0))\n",
    "\n",
    "    return gradient"
   ]
  },
  {
   "cell_type": "code",
   "execution_count": 434,
   "metadata": {},
   "outputs": [],
   "source": [
    "def binarize_image(image, threshold):\n",
    "    image = np.array(image)\n",
    "    return Image.fromarray(((image > threshold)*255).astype(np.uint8))"
   ]
  },
  {
   "cell_type": "code",
   "execution_count": 435,
   "metadata": {},
   "outputs": [],
   "source": [
    "def pattern_matching(image, pattern):\n",
    "    image_width, image_height = image.size\n",
    "    pattern_width, pattern_height = pattern.size\n",
    "\n",
    "    for x in range(image_width - pattern_width):\n",
    "        for y in range(image_height - pattern_height):\n",
    "            region = image.crop((x, y, x + pattern_width, y + pattern_height))\n",
    "            difference = np.abs(np.array(region) - np.array(pattern))\n",
    "            if np.mean(difference) < 10:  # should adjust\n",
    "                return True\n",
    "\n",
    "    return False\n"
   ]
  },
  {
   "cell_type": "code",
   "execution_count": 436,
   "metadata": {},
   "outputs": [],
   "source": [
    "def process(image_path):\n",
    "    image = preprocess_image(image_path)\n",
    "    image = histogram_equalization(image)\n",
    "    image = laplace_filter(image)\n",
    "    image = histogram_equalization(image)\n",
    "    image = binarize_image(image, 205)\n",
    "\n",
    "    return image"
   ]
  },
  {
   "cell_type": "code",
   "execution_count": 437,
   "metadata": {},
   "outputs": [],
   "source": [
    "def detect_coins(image_path):\n",
    "    image = process(image_path)\n",
    "    coin_count = [0 for _ in range(4)]\n",
    "\n",
    "    # Load the pattern image of a coin to match against\n",
    "    coin_pattern_10 = process(\"coin_template/10.png\")\n",
    "    coin_pattern_10_2 = process(\"coin_template/10_2.png\")\n",
    "    coin_pattern_50 = process(\"coin_template/50.png\")\n",
    "    coin_pattern_50_2 = process(\"coin_template/50_2.png\")\n",
    "    coin_pattern_100 = process(\"coin_template/100.png\")\n",
    "    coin_pattern_100_2 = process(\"coin_template/100_2.png\")\n",
    "    coin_pattern_500 = process(\"coin_template/500.png\")\n",
    "    coin_pattern_500_2 = process(\"coin_template/500_2.png\")\n",
    "\n",
    "    if pattern_matching(image, coin_pattern_10) or pattern_matching(image, coin_pattern_10_2):\n",
    "        print(\"10won Coin detected!\")\n",
    "        coin_count[0]+=1\n",
    "    elif pattern_matching(image, coin_pattern_50) or pattern_matching(image, coin_pattern_50_2):\n",
    "        print(\"50won Coin detected!\")\n",
    "        coin_count[1]+=1\n",
    "    elif pattern_matching(image, coin_pattern_100)or pattern_matching(image, coin_pattern_100_2):\n",
    "        print(\"100won Coin detected!\")\n",
    "        coin_count[2]+=1\n",
    "    elif pattern_matching(image, coin_pattern_500)or pattern_matching(image, coin_pattern_500_2):\n",
    "        print(\"500won Coin detected!\")\n",
    "        coin_count[3]+=1\n",
    "\n"
   ]
  },
  {
   "attachments": {},
   "cell_type": "markdown",
   "metadata": {},
   "source": [
    "Test"
   ]
  },
  {
   "cell_type": "code",
   "execution_count": 438,
   "metadata": {},
   "outputs": [
    {
     "data": {
      "image/png": "[encoded data removed]",
      "text/plain": [
       "<PIL.Image.Image image mode=L size=600x300>"
      ]
     },
     "metadata": {},
     "output_type": "display_data"
    }
   ],
   "source": [
    "image_path = (\"image/1.jpg\")\n",
    "\n",
    "image = process(image_path)\n",
    "\n",
    "image.show()"
   ]
  },
  {
   "attachments": {},
   "cell_type": "markdown",
   "metadata": {},
   "source": []
  }
 ],
 "metadata": {
  "kernelspec": {
   "display_name": "img",
   "language": "python",
   "name": "python3"
  },
  "language_info": {
   "codemirror_mode": {
    "name": "ipython",
    "version": 3
   },
   "file_extension": ".py",
   "mimetype": "text/x-python",
   "name": "python",
   "nbconvert_exporter": "python",
   "pygments_lexer": "ipython3",
   "version": "3.10.4"
  },
  "orig_nbformat": 4
 },
 "nbformat": 4,
 "nbformat_minor": 2
}
