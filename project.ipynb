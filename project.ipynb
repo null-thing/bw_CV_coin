{
 "cells": [
  {
   "cell_type": "code",
   "execution_count": 1,
   "metadata": {},
   "outputs": [],
   "source": [
    "import numpy as np\n",
    "from PIL import Image, ImageFilter\n",
    "from skimage.transform import hough_circle, hough_circle_peaks"
   ]
  },
  {
   "attachments": {},
   "cell_type": "markdown",
   "metadata": {},
   "source": [
    "skimage의 경우, hough algorithm을 직접 구현하려 하였으나, 최적화 문제 등으로 오래 걸려 import함"
   ]
  },
  {
   "cell_type": "code",
   "execution_count": 2,
   "metadata": {},
   "outputs": [],
   "source": [
    "def preprocess_image(image_path):\n",
    "    image = Image.open(image_path).convert(\"L\")  # Convert to grayscale\n",
    "    image = image.filter(ImageFilter.GaussianBlur(radius=2))  # Apply Gaussian blur for noise reduction\n",
    "    return image\n"
   ]
  },
  {
   "cell_type": "code",
   "execution_count": 3,
   "metadata": {},
   "outputs": [],
   "source": [
    "def histogram_equalization(image):\n",
    "    histogram, bins = np.histogram(np.array(image).flatten(), 256, density=True)\n",
    "    cumulative_distribution = histogram.cumsum()\n",
    "    cumulative_distribution = 255 * cumulative_distribution / cumulative_distribution[-1]\n",
    "\n",
    "    equalized_image = np.interp(image, bins[:-1], cumulative_distribution)\n",
    "    result = Image.fromarray(equalized_image.astype(np.uint8).reshape((image.size[1], image.size[0])))\n",
    "    return result\n"
   ]
  },
  {
   "cell_type": "code",
   "execution_count": 4,
   "metadata": {},
   "outputs": [],
   "source": [
    "def sobel_filter(image):\n",
    "    sobel_x = np.array([[-1, 0, 1],\n",
    "                        [-2, 0, 2], \n",
    "                        [-1, 0, 1]])    \n",
    "    sobel_y = np.array([[1, 2, 1],\n",
    "                        [0, 0, 0],\n",
    "                        [-1, -2, -1]])\n",
    "\n",
    "    gradient_x = image.filter(ImageFilter.Kernel((3, 3), sobel_x.flatten() ,1,0))\n",
    "    gradient_y = image.filter(ImageFilter.Kernel((3, 3), sobel_y.flatten(),1,0))\n",
    "\n",
    "    # gradient_x = np.abs(image.filter(ImageFilter.Kernel((3, 3), sobel_x)))\n",
    "\n",
    "    gradient_magnitude = np.sqrt(np.square(gradient_x) + np.square(gradient_y))\n",
    "    \n",
    "    result = gradient_magnitude.reshape((image.size[1], image.size[0]))\n",
    "    result = gradient_magnitude.astype(np.uint8)\n",
    "    result = Image.fromarray(result)\n",
    "    return result\n"
   ]
  },
  {
   "cell_type": "code",
   "execution_count": 5,
   "metadata": {},
   "outputs": [],
   "source": [
    "def laplace_filter(image):\n",
    "    laplace = np.array([[-1, -1, -1],\n",
    "                        [-1, 8, -1],\n",
    "                        [-1, -1, -1]])\n",
    "\n",
    "    gradient = image.filter(ImageFilter.Kernel((3, 3), laplace.flatten() ,1,0))\n",
    "\n",
    "    return gradient"
   ]
  },
  {
   "cell_type": "code",
   "execution_count": 6,
   "metadata": {},
   "outputs": [],
   "source": [
    "def binarize_image(image, threshold):\n",
    "    image = np.array(image)\n",
    "    return Image.fromarray(((image > threshold)*255).astype(np.uint8))"
   ]
  },
  {
   "cell_type": "code",
   "execution_count": 7,
   "metadata": {},
   "outputs": [],
   "source": [
    "def find_circle(image):\n",
    "    # hough Transform\n",
    "    img_array=np.array(image)\n",
    "    h, w = image.height, image.width\n",
    "    min_radius = 10\n",
    "    max_radius = int(min(w, h)//2)\n",
    "    circles = hough_circle(img_array, np.arange(min_radius, max_radius, 2))\n",
    "    \"\"\"accumulator = np.zeros((h, w, max_radius - min_radius + 1), dtype=int)\n",
    "\n",
    "    for y in range(h):\n",
    "        for x in range(w):\n",
    "            if img_array[y, x] > 0:\n",
    "                for r in range(min_radius, max_radius + 1):\n",
    "                    for theta in range(0, 360):\n",
    "                        a = int(x - r * np.cos(np.deg2rad(theta)))\n",
    "                        b = int(y - r * np.sin(np.deg2rad(theta)))\n",
    "\n",
    "                        if a >= 0 and a < w and b >= 0 and b < h:\n",
    "                            accumulator[b, a, r - min_radius] += 1\n",
    "\n",
    "    # Find the circles with sufficient votes\n",
    "    for y in range(h):\n",
    "        for x in range(w):\n",
    "            for r in range(min_radius, max_radius + 1):\n",
    "                if accumulator[y, x, r - min_radius] > 0.9 * accumulator.max():\n",
    "                    circles.append((x, y, r))\n",
    "\n",
    "    accumulator = np.zeros \"\"\"\n",
    "    # find coin circle\n",
    "    # blackout surrounding background\n",
    "    _, x, y, r = hough_circle_peaks(circles, np.arange(min_radius, max_radius, 2),\n",
    "                                           total_num_peaks=100)\n",
    "    radind= r.argsort()[::-1]\n",
    "    x = x[radind]\n",
    "    y = y[radind]\n",
    "    r = r[radind]\n",
    "    coin_regions = []\n",
    "    for i in range(100):\n",
    "        coin_region = image.crop((x[i] - r[i], y[i] - r[i], x[i] + r[i], y[i] + r[i]))\n",
    "        coin_regions.append(coin_region)\n",
    "    return coin_regions"
   ]
  },
  {
   "cell_type": "code",
   "execution_count": 8,
   "metadata": {},
   "outputs": [],
   "source": [
    "def pattern_matching(image, pattern):\n",
    "    \n",
    "    difference = np.abs(np.array(image) - np.array(pattern))\n",
    "    if np.mean(difference) < 45:  # should adjust\n",
    "        return True\n",
    "    \"\"\"cosine = np.dot(image,pattern)/(np.linalg.norm(image)*np.linalg.norm(pattern))\n",
    "    if np.mean(cosine)>0.6:\n",
    "        return True\"\"\"\n",
    "\n",
    "    return False\n"
   ]
  },
  {
   "cell_type": "code",
   "execution_count": 9,
   "metadata": {},
   "outputs": [],
   "source": [
    "def process(image_path):\n",
    "    image = preprocess_image(image_path)\n",
    "    image = histogram_equalization(image)\n",
    "    image = laplace_filter(image)\n",
    "    image = histogram_equalization(image)\n",
    "    image = binarize_image(image, 205)\n",
    "    circles = find_circle(image)\n",
    "    \n",
    "    return circles"
   ]
  },
  {
   "attachments": {},
   "cell_type": "markdown",
   "metadata": {},
   "source": [
    "실 사용을 가정할때 인용 표시를 제거해야 할 것이며, 크기를 줄이는 등의 preprocessing이 필요하다."
   ]
  },
  {
   "cell_type": "code",
   "execution_count": 10,
   "metadata": {},
   "outputs": [
    {
     "data": {
      "text/plain": [
       "'coin_pattern_100_2 = process(\"coin_template/100_2.png\")[0]\\ncoin_pattern_500 = process(\"coin_template/500.png\")[0]\\ncoin_pattern_500_2 = process(\"coin_template/500_2.png\")[0]'"
      ]
     },
     "execution_count": 10,
     "metadata": {},
     "output_type": "execute_result"
    }
   ],
   "source": [
    "coin_pattern_10 = process(\"coin_template/10.jpeg\")[0]\n",
    "\"\"\"coin_pattern_10_2 = process(\"coin_template/10_2.jpeg\")[0]\n",
    "coin_pattern_50 = process(\"coin_template/50.jpg\")[0]\n",
    "coin_pattern_50_2 = process(\"coin_template/50_2.png\")[0]\"\"\"\n",
    "coin_pattern_100 = process(\"coin_template/100.jpg\")[0]\n",
    "\"\"\"coin_pattern_100_2 = process(\"coin_template/100_2.png\")[0]\n",
    "coin_pattern_500 = process(\"coin_template/500.png\")[0]\n",
    "coin_pattern_500_2 = process(\"coin_template/500_2.png\")[0]\"\"\""
   ]
  },
  {
   "attachments": {},
   "cell_type": "markdown",
   "metadata": {},
   "source": [
    "TODO : 미리 FEATURE를 추출해두기?"
   ]
  },
  {
   "cell_type": "code",
   "execution_count": 11,
   "metadata": {},
   "outputs": [],
   "source": [
    "def detect_coins(image_path):\n",
    "    coin_count = [0 for _ in range(4)]\n",
    "    circles = process(image_path)\n",
    "   \n",
    "    for circle in circles:\n",
    "        circle0 = circle.resize(coin_pattern_10.size)\n",
    "        circle2 = circle.resize(coin_pattern_100.size)\n",
    "        if pattern_matching(circle0, coin_pattern_10) : # or pattern_matching(circle, coin_pattern_10_2)\n",
    "            print(\"10won Coin detected!\")\n",
    "            coin_count[0]+=1\n",
    "        \"\"\"elif pattern_matching(circle1, coin_pattern_50) or pattern_matching(circle, coin_pattern_50_2):\n",
    "            print(\"50won Coin detected!\")\n",
    "            coin_count[1]+=1\"\"\"\n",
    "        if pattern_matching(circle2, coin_pattern_100): #or pattern_matching(circle, coin_pattern_100_2):\n",
    "            print(\"100won Coin detected!\")\n",
    "            coin_count[2]+=1\n",
    "        \"\"\"elif pattern_matching(circle3, coin_pattern_500)or pattern_matching(circle, coin_pattern_500_2):\n",
    "            print(\"500won Coin detected!\")\n",
    "            coin_count[3]+=1\"\"\"\n",
    "    return coin_count \n",
    "\n",
    "    # Load the pattern image of a coin to match against   \n",
    "\n"
   ]
  },
  {
   "attachments": {},
   "cell_type": "markdown",
   "metadata": {},
   "source": [
    "Test"
   ]
  },
  {
   "cell_type": "code",
   "execution_count": 12,
   "metadata": {},
   "outputs": [],
   "source": [
    "image_path = (\"image/1.jpg\")\n",
    "\n",
    "image = process(image_path)\n",
    "\n"
   ]
  },
  {
   "cell_type": "code",
   "execution_count": 13,
   "metadata": {},
   "outputs": [
    {
     "data": {
      "image/png": "[encoded data removed]",
      "text/plain": [
       "<PIL.Image.Image image mode=L size=124x124>"
      ]
     },
     "metadata": {},
     "output_type": "display_data"
    }
   ],
   "source": [
    "image[15].show()"
   ]
  },
  {
   "cell_type": "code",
   "execution_count": 14,
   "metadata": {},
   "outputs": [
    {
     "data": {
      "image/png": "[encoded data removed]",
      "text/plain": [
       "<PIL.Image.Image image mode=L size=140x140>"
      ]
     },
     "metadata": {},
     "output_type": "display_data"
    },
    {
     "data": {
      "image/png": "[encoded data removed]",
      "text/plain": [
       "<PIL.Image.Image image mode=L size=184x184>"
      ]
     },
     "metadata": {},
     "output_type": "display_data"
    }
   ],
   "source": [
    "coin_pattern_10.show()\n",
    "coin_pattern_100.show()"
   ]
  },
  {
   "cell_type": "code",
   "execution_count": 15,
   "metadata": {},
   "outputs": [
    {
     "name": "stdout",
     "output_type": "stream",
     "text": [
      "10won Coin detected!\n"
     ]
    },
    {
     "data": {
      "text/plain": [
       "[1, 0, 0, 0]"
      ]
     },
     "execution_count": 15,
     "metadata": {},
     "output_type": "execute_result"
    }
   ],
   "source": [
    "detect_coins(\"image/1.jpg\")"
   ]
  },
  {
   "cell_type": "code",
   "execution_count": null,
   "metadata": {},
   "outputs": [],
   "source": []
  }
 ],
 "metadata": {
  "kernelspec": {
   "display_name": "img",
   "language": "python",
   "name": "python3"
  },
  "language_info": {
   "codemirror_mode": {
    "name": "ipython",
    "version": 3
   },
   "file_extension": ".py",
   "mimetype": "text/x-python",
   "name": "python",
   "nbconvert_exporter": "python",
   "pygments_lexer": "ipython3",
   "version": "3.10.4"
  },
  "orig_nbformat": 4
 },
 "nbformat": 4,
 "nbformat_minor": 2
}
